{
 "cells": [
  {
   "cell_type": "code",
   "execution_count": 2,
   "id": "6dc0b663",
   "metadata": {},
   "outputs": [
    {
     "data": {
      "text/html": [
       "<div>\n",
       "<style scoped>\n",
       "    .dataframe tbody tr th:only-of-type {\n",
       "        vertical-align: middle;\n",
       "    }\n",
       "\n",
       "    .dataframe tbody tr th {\n",
       "        vertical-align: top;\n",
       "    }\n",
       "\n",
       "    .dataframe thead th {\n",
       "        text-align: right;\n",
       "    }\n",
       "</style>\n",
       "<table border=\"1\" class=\"dataframe\">\n",
       "  <thead>\n",
       "    <tr style=\"text-align: right;\">\n",
       "      <th></th>\n",
       "      <th>patient_id</th>\n",
       "      <th>age</th>\n",
       "      <th>gender</th>\n",
       "      <th>blood_pressure</th>\n",
       "      <th>cholesterol</th>\n",
       "      <th>glucose_level</th>\n",
       "      <th>heart_rate</th>\n",
       "      <th>bmi</th>\n",
       "      <th>smoker</th>\n",
       "      <th>num_visits_last_year</th>\n",
       "      <th>readmission</th>\n",
       "      <th>clinical_notes</th>\n",
       "    </tr>\n",
       "  </thead>\n",
       "  <tbody>\n",
       "    <tr>\n",
       "      <th>0</th>\n",
       "      <td>1</td>\n",
       "      <td>69</td>\n",
       "      <td>Female</td>\n",
       "      <td>119.0</td>\n",
       "      <td>212.0</td>\n",
       "      <td>106.5</td>\n",
       "      <td>76.8</td>\n",
       "      <td>29.2</td>\n",
       "      <td>No</td>\n",
       "      <td>2</td>\n",
       "      <td>0</td>\n",
       "      <td>Patient shows signs of improvement.</td>\n",
       "    </tr>\n",
       "    <tr>\n",
       "      <th>1</th>\n",
       "      <td>2</td>\n",
       "      <td>32</td>\n",
       "      <td>Female</td>\n",
       "      <td>101.8</td>\n",
       "      <td>219.4</td>\n",
       "      <td>97.0</td>\n",
       "      <td>77.1</td>\n",
       "      <td>23.3</td>\n",
       "      <td>Yes</td>\n",
       "      <td>1</td>\n",
       "      <td>0</td>\n",
       "      <td>Follow-up required due to high cholesterol lev...</td>\n",
       "    </tr>\n",
       "    <tr>\n",
       "      <th>2</th>\n",
       "      <td>3</td>\n",
       "      <td>89</td>\n",
       "      <td>Male</td>\n",
       "      <td>110.2</td>\n",
       "      <td>185.5</td>\n",
       "      <td>90.7</td>\n",
       "      <td>82.6</td>\n",
       "      <td>25.3</td>\n",
       "      <td>No</td>\n",
       "      <td>0</td>\n",
       "      <td>0</td>\n",
       "      <td>Patient shows signs of improvement.</td>\n",
       "    </tr>\n",
       "    <tr>\n",
       "      <th>3</th>\n",
       "      <td>4</td>\n",
       "      <td>78</td>\n",
       "      <td>Male</td>\n",
       "      <td>120.7</td>\n",
       "      <td>247.2</td>\n",
       "      <td>68.1</td>\n",
       "      <td>99.6</td>\n",
       "      <td>25.8</td>\n",
       "      <td>No</td>\n",
       "      <td>3</td>\n",
       "      <td>0</td>\n",
       "      <td>Elevated BP noted, recommended lifestyle changes.</td>\n",
       "    </tr>\n",
       "    <tr>\n",
       "      <th>4</th>\n",
       "      <td>5</td>\n",
       "      <td>38</td>\n",
       "      <td>Male</td>\n",
       "      <td>107.1</td>\n",
       "      <td>163.2</td>\n",
       "      <td>110.3</td>\n",
       "      <td>75.9</td>\n",
       "      <td>30.9</td>\n",
       "      <td>No</td>\n",
       "      <td>3</td>\n",
       "      <td>0</td>\n",
       "      <td>Patient reports shortness of breath and fatigue.</td>\n",
       "    </tr>\n",
       "  </tbody>\n",
       "</table>\n",
       "</div>"
      ],
      "text/plain": [
       "   patient_id  age  gender  blood_pressure  cholesterol  glucose_level  \\\n",
       "0           1   69  Female           119.0        212.0          106.5   \n",
       "1           2   32  Female           101.8        219.4           97.0   \n",
       "2           3   89    Male           110.2        185.5           90.7   \n",
       "3           4   78    Male           120.7        247.2           68.1   \n",
       "4           5   38    Male           107.1        163.2          110.3   \n",
       "\n",
       "   heart_rate   bmi smoker  num_visits_last_year  readmission  \\\n",
       "0        76.8  29.2     No                     2            0   \n",
       "1        77.1  23.3    Yes                     1            0   \n",
       "2        82.6  25.3     No                     0            0   \n",
       "3        99.6  25.8     No                     3            0   \n",
       "4        75.9  30.9     No                     3            0   \n",
       "\n",
       "                                      clinical_notes  \n",
       "0                Patient shows signs of improvement.  \n",
       "1  Follow-up required due to high cholesterol lev...  \n",
       "2                Patient shows signs of improvement.  \n",
       "3  Elevated BP noted, recommended lifestyle changes.  \n",
       "4   Patient reports shortness of breath and fatigue.  "
      ]
     },
     "execution_count": 2,
     "metadata": {},
     "output_type": "execute_result"
    }
   ],
   "source": [
    "import pandas as pd\n",
    "import matplotlib.pyplot as plt\n",
    "import seaborn as sns\n",
    "\n",
    "\n",
    "df = pd.read_csv(\"../data/Synthetic_Clinical_Data.csv\")\n",
    "df.head()\n"
   ]
  },
  {
   "cell_type": "code",
   "execution_count": 3,
   "id": "e6c6a949",
   "metadata": {},
   "outputs": [
    {
     "data": {
      "text/plain": [
       "(500, 12)"
      ]
     },
     "execution_count": 3,
     "metadata": {},
     "output_type": "execute_result"
    }
   ],
   "source": [
    "df.shape"
   ]
  },
  {
   "cell_type": "code",
   "execution_count": 4,
   "id": "d8fa73d2",
   "metadata": {},
   "outputs": [
    {
     "name": "stdout",
     "output_type": "stream",
     "text": [
      "<class 'pandas.core.frame.DataFrame'>\n",
      "RangeIndex: 500 entries, 0 to 499\n",
      "Data columns (total 12 columns):\n",
      " #   Column                Non-Null Count  Dtype  \n",
      "---  ------                --------------  -----  \n",
      " 0   patient_id            500 non-null    int64  \n",
      " 1   age                   500 non-null    int64  \n",
      " 2   gender                500 non-null    object \n",
      " 3   blood_pressure        500 non-null    float64\n",
      " 4   cholesterol           500 non-null    float64\n",
      " 5   glucose_level         500 non-null    float64\n",
      " 6   heart_rate            500 non-null    float64\n",
      " 7   bmi                   500 non-null    float64\n",
      " 8   smoker                500 non-null    object \n",
      " 9   num_visits_last_year  500 non-null    int64  \n",
      " 10  readmission           500 non-null    int64  \n",
      " 11  clinical_notes        500 non-null    object \n",
      "dtypes: float64(5), int64(4), object(3)\n",
      "memory usage: 47.0+ KB\n"
     ]
    }
   ],
   "source": [
    "df.info()"
   ]
  },
  {
   "cell_type": "code",
   "execution_count": 5,
   "id": "99e92677",
   "metadata": {},
   "outputs": [
    {
     "data": {
      "text/plain": [
       "patient_id                int64\n",
       "age                       int64\n",
       "gender                   object\n",
       "blood_pressure          float64\n",
       "cholesterol             float64\n",
       "glucose_level           float64\n",
       "heart_rate              float64\n",
       "bmi                     float64\n",
       "smoker                   object\n",
       "num_visits_last_year      int64\n",
       "readmission               int64\n",
       "clinical_notes           object\n",
       "dtype: object"
      ]
     },
     "execution_count": 5,
     "metadata": {},
     "output_type": "execute_result"
    }
   ],
   "source": [
    "df.dtypes"
   ]
  },
  {
   "cell_type": "code",
   "execution_count": 6,
   "id": "34a1285c",
   "metadata": {},
   "outputs": [
    {
     "data": {
      "text/html": [
       "<div>\n",
       "<style scoped>\n",
       "    .dataframe tbody tr th:only-of-type {\n",
       "        vertical-align: middle;\n",
       "    }\n",
       "\n",
       "    .dataframe tbody tr th {\n",
       "        vertical-align: top;\n",
       "    }\n",
       "\n",
       "    .dataframe thead th {\n",
       "        text-align: right;\n",
       "    }\n",
       "</style>\n",
       "<table border=\"1\" class=\"dataframe\">\n",
       "  <thead>\n",
       "    <tr style=\"text-align: right;\">\n",
       "      <th></th>\n",
       "      <th>patient_id</th>\n",
       "      <th>age</th>\n",
       "      <th>blood_pressure</th>\n",
       "      <th>cholesterol</th>\n",
       "      <th>glucose_level</th>\n",
       "      <th>heart_rate</th>\n",
       "      <th>bmi</th>\n",
       "      <th>num_visits_last_year</th>\n",
       "      <th>readmission</th>\n",
       "    </tr>\n",
       "  </thead>\n",
       "  <tbody>\n",
       "    <tr>\n",
       "      <th>count</th>\n",
       "      <td>500.000000</td>\n",
       "      <td>500.000000</td>\n",
       "      <td>500.000000</td>\n",
       "      <td>500.000000</td>\n",
       "      <td>500.000000</td>\n",
       "      <td>500.000000</td>\n",
       "      <td>500.000000</td>\n",
       "      <td>500.000000</td>\n",
       "      <td>500.000000</td>\n",
       "    </tr>\n",
       "    <tr>\n",
       "      <th>mean</th>\n",
       "      <td>250.500000</td>\n",
       "      <td>52.930000</td>\n",
       "      <td>121.060800</td>\n",
       "      <td>202.753000</td>\n",
       "      <td>100.208800</td>\n",
       "      <td>72.156400</td>\n",
       "      <td>26.964400</td>\n",
       "      <td>2.964000</td>\n",
       "      <td>0.298000</td>\n",
       "    </tr>\n",
       "    <tr>\n",
       "      <th>std</th>\n",
       "      <td>144.481833</td>\n",
       "      <td>21.009519</td>\n",
       "      <td>14.675906</td>\n",
       "      <td>30.446556</td>\n",
       "      <td>19.794514</td>\n",
       "      <td>9.635417</td>\n",
       "      <td>4.045579</td>\n",
       "      <td>1.649286</td>\n",
       "      <td>0.457838</td>\n",
       "    </tr>\n",
       "    <tr>\n",
       "      <th>min</th>\n",
       "      <td>1.000000</td>\n",
       "      <td>18.000000</td>\n",
       "      <td>79.500000</td>\n",
       "      <td>113.100000</td>\n",
       "      <td>39.600000</td>\n",
       "      <td>46.000000</td>\n",
       "      <td>15.000000</td>\n",
       "      <td>0.000000</td>\n",
       "      <td>0.000000</td>\n",
       "    </tr>\n",
       "    <tr>\n",
       "      <th>25%</th>\n",
       "      <td>125.750000</td>\n",
       "      <td>34.000000</td>\n",
       "      <td>111.600000</td>\n",
       "      <td>181.700000</td>\n",
       "      <td>87.175000</td>\n",
       "      <td>65.575000</td>\n",
       "      <td>24.500000</td>\n",
       "      <td>2.000000</td>\n",
       "      <td>0.000000</td>\n",
       "    </tr>\n",
       "    <tr>\n",
       "      <th>50%</th>\n",
       "      <td>250.500000</td>\n",
       "      <td>52.000000</td>\n",
       "      <td>120.900000</td>\n",
       "      <td>202.350000</td>\n",
       "      <td>99.650000</td>\n",
       "      <td>72.100000</td>\n",
       "      <td>26.800000</td>\n",
       "      <td>3.000000</td>\n",
       "      <td>0.000000</td>\n",
       "    </tr>\n",
       "    <tr>\n",
       "      <th>75%</th>\n",
       "      <td>375.250000</td>\n",
       "      <td>71.000000</td>\n",
       "      <td>130.425000</td>\n",
       "      <td>222.650000</td>\n",
       "      <td>113.525000</td>\n",
       "      <td>78.700000</td>\n",
       "      <td>29.525000</td>\n",
       "      <td>4.000000</td>\n",
       "      <td>1.000000</td>\n",
       "    </tr>\n",
       "    <tr>\n",
       "      <th>max</th>\n",
       "      <td>500.000000</td>\n",
       "      <td>89.000000</td>\n",
       "      <td>159.500000</td>\n",
       "      <td>278.100000</td>\n",
       "      <td>163.900000</td>\n",
       "      <td>103.100000</td>\n",
       "      <td>42.700000</td>\n",
       "      <td>8.000000</td>\n",
       "      <td>1.000000</td>\n",
       "    </tr>\n",
       "  </tbody>\n",
       "</table>\n",
       "</div>"
      ],
      "text/plain": [
       "       patient_id         age  blood_pressure  cholesterol  glucose_level  \\\n",
       "count  500.000000  500.000000      500.000000   500.000000     500.000000   \n",
       "mean   250.500000   52.930000      121.060800   202.753000     100.208800   \n",
       "std    144.481833   21.009519       14.675906    30.446556      19.794514   \n",
       "min      1.000000   18.000000       79.500000   113.100000      39.600000   \n",
       "25%    125.750000   34.000000      111.600000   181.700000      87.175000   \n",
       "50%    250.500000   52.000000      120.900000   202.350000      99.650000   \n",
       "75%    375.250000   71.000000      130.425000   222.650000     113.525000   \n",
       "max    500.000000   89.000000      159.500000   278.100000     163.900000   \n",
       "\n",
       "       heart_rate         bmi  num_visits_last_year  readmission  \n",
       "count  500.000000  500.000000            500.000000   500.000000  \n",
       "mean    72.156400   26.964400              2.964000     0.298000  \n",
       "std      9.635417    4.045579              1.649286     0.457838  \n",
       "min     46.000000   15.000000              0.000000     0.000000  \n",
       "25%     65.575000   24.500000              2.000000     0.000000  \n",
       "50%     72.100000   26.800000              3.000000     0.000000  \n",
       "75%     78.700000   29.525000              4.000000     1.000000  \n",
       "max    103.100000   42.700000              8.000000     1.000000  "
      ]
     },
     "execution_count": 6,
     "metadata": {},
     "output_type": "execute_result"
    }
   ],
   "source": [
    "df.describe()"
   ]
  },
  {
   "cell_type": "code",
   "execution_count": 7,
   "id": "895dd953",
   "metadata": {},
   "outputs": [
    {
     "data": {
      "text/plain": [
       "patient_id              0\n",
       "age                     0\n",
       "gender                  0\n",
       "blood_pressure          0\n",
       "cholesterol             0\n",
       "glucose_level           0\n",
       "heart_rate              0\n",
       "bmi                     0\n",
       "smoker                  0\n",
       "num_visits_last_year    0\n",
       "readmission             0\n",
       "clinical_notes          0\n",
       "dtype: int64"
      ]
     },
     "execution_count": 7,
     "metadata": {},
     "output_type": "execute_result"
    }
   ],
   "source": [
    "df.isnull().sum()"
   ]
  },
  {
   "cell_type": "code",
   "execution_count": 8,
   "id": "215ec8cd",
   "metadata": {},
   "outputs": [
    {
     "data": {
      "image/png": "[encoded data removed]",
      "text/plain": [
       "<Figure size 640x480 with 1 Axes>"
      ]
     },
     "metadata": {},
     "output_type": "display_data"
    }
   ],
   "source": [
    "sns.countplot(data=df, x=\"readmission\")\n",
    "plt.title(\"Readmission Rate\")\n",
    "plt.xlabel(\"Readmitted (1 = Yes, 0 = No)\")\n",
    "plt.ylabel(\"Count\")\n",
    "plt.show()"
   ]
  },
  {
   "cell_type": "markdown",
   "id": "5e25c203",
   "metadata": {},
   "source": [
    "Noticed a class imbalance for admission. Might need to use SMOTE"
   ]
  },
  {
   "cell_type": "code",
   "execution_count": 9,
   "id": "90a50609",
   "metadata": {},
   "outputs": [
    {
     "data": {
      "image/png": "[encoded data removed]",
      "text/plain": [
       "<Figure size 640x480 with 1 Axes>"
      ]
     },
     "metadata": {},
     "output_type": "display_data"
    }
   ],
   "source": [
    "sns.histplot(df[\"age\"], bins=20, kde=True)\n",
    "plt.title(\"Age Distribution\")\n",
    "plt.xlabel(\"Age\")\n",
    "plt.ylabel(\"Frequency\")\n",
    "plt.show()"
   ]
  },
  {
   "cell_type": "code",
   "execution_count": 10,
   "id": "2f80d69a",
   "metadata": {},
   "outputs": [
    {
     "data": {
      "image/png": "[encoded data removed]",
      "text/plain": [
       "<Figure size 640x480 with 1 Axes>"
      ]
     },
     "metadata": {},
     "output_type": "display_data"
    }
   ],
   "source": [
    "sns.boxplot(data=df, x=\"gender\", y=\"blood_pressure\")\n",
    "plt.title(\"Blood Pressure by Gender\")\n",
    "plt.xlabel(\"Gender\")\n",
    "plt.ylabel(\"Blood Pressure\")\n",
    "plt.show()"
   ]
  },
  {
   "cell_type": "code",
   "execution_count": 11,
   "id": "2370a588",
   "metadata": {},
   "outputs": [
    {
     "data": {
      "image/png": "[encoded data removed]",
      "text/plain": [
       "<Figure size 640x480 with 1 Axes>"
      ]
     },
     "metadata": {},
     "output_type": "display_data"
    }
   ],
   "source": [
    "sns.countplot(data=df, x=\"smoker\", hue=\"readmission\")\n",
    "plt.title(\"Readmission by Smoking Status\")\n",
    "plt.xlabel(\"Smoker\")\n",
    "plt.ylabel(\"Count\")\n",
    "plt.legend(title=\"Readmitted\")\n",
    "plt.show()\n"
   ]
  },
  {
   "cell_type": "code",
   "execution_count": null,
   "id": "c7ce402f",
   "metadata": {},
   "outputs": [
    {
     "ename": "NameError",
     "evalue": "name 'dd_type' is not defined",
     "output_type": "error",
     "traceback": [
      "\u001b[1;31m---------------------------------------------------------------------------\u001b[0m",
      "\u001b[1;31mNameError\u001b[0m                                 Traceback (most recent call last)",
      "Cell \u001b[1;32mIn[12], line 1\u001b[0m\n\u001b[1;32m----> 1\u001b[0m numerical \u001b[38;5;241m=\u001b[39m [d_type \u001b[38;5;28;01mfor\u001b[39;00m d_type \u001b[38;5;129;01min\u001b[39;00m df\u001b[38;5;241m.\u001b[39mcolumns \u001b[38;5;28;01mif\u001b[39;00m \u001b[43mdd_type\u001b[49m]\n\u001b[0;32m      2\u001b[0m sns\u001b[38;5;241m.\u001b[39mcountplot(data\u001b[38;5;241m=\u001b[39mdf, x\u001b[38;5;241m=\u001b[39m\u001b[38;5;124m\"\u001b[39m\u001b[38;5;124mglucose level\u001b[39m\u001b[38;5;124m\"\u001b[39m, hue\u001b[38;5;241m=\u001b[39m\u001b[38;5;124m\"\u001b[39m\u001b[38;5;124mreadmission\u001b[39m\u001b[38;5;124m\"\u001b[39m)\n\u001b[0;32m      3\u001b[0m plt\u001b[38;5;241m.\u001b[39mtitle(\u001b[38;5;124m\"\u001b[39m\u001b[38;5;124mReadmission by Smoking Status\u001b[39m\u001b[38;5;124m\"\u001b[39m)\n",
      "\u001b[1;31mNameError\u001b[0m: name 'dd_type' is not defined"
     ]
    }
   ],
   "source": [
    "numerical = [d_type for d_type in df.columns if d_type not object]\n",
    "sns.countplot(data=df, x=\"glucose level\", hue=\"readmission\")\n",
    "plt.title(\"Readmission by Smoking Status\")\n",
    "plt.xlabel(\"Smoker\")\n",
    "plt.ylabel(\"Count\")\n",
    "plt.legend(title=\"Readmitted\")\n",
    "plt.show()\n"
   ]
  }
 ],
 "metadata": {
  "kernelspec": {
   "display_name": "Python 3",
   "language": "python",
   "name": "python3"
  },
  "language_info": {
   "codemirror_mode": {
    "name": "ipython",
    "version": 3
   },
   "file_extension": ".py",
   "mimetype": "text/x-python",
   "name": "python",
   "nbconvert_exporter": "python",
   "pygments_lexer": "ipython3",
   "version": "3.12.3"
  }
 },
 "nbformat": 4,
 "nbformat_minor": 5
}
